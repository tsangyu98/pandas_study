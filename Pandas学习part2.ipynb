{
 "cells": [
  {
   "cell_type": "code",
   "execution_count": null,
   "metadata": {},
   "outputs": [],
   "source": [
    "'''时间模块:datetime\n",
    "datetime模块，主要掌握:datetime.date(),datetime.datetime(),datetime.timedelta()\n",
    "日期解析方法:parser.parse\n",
    "'''"
   ]
  },
  {
   "cell_type": "code",
   "execution_count": 1,
   "metadata": {},
   "outputs": [
    {
     "name": "stdout",
     "output_type": "stream",
     "text": [
      "2019-11-25 <class 'datetime.date'>\n",
      "--------------------------\n",
      "2019-11-25 <class 'str'>\n",
      "--------------------------\n",
      "2016-06-01\n"
     ]
    }
   ],
   "source": [
    "# datetime.date:date对象\n",
    "import datetime  # 也可以写成from datetime import date\n",
    "today = datetime.date.today()\n",
    "print(today, type(today))\n",
    "print('--------------------------')\n",
    "print(str(today), type(str(today)))\n",
    "print('--------------------------')\n",
    "# datetime.date.today():返回当天的日期# \n",
    "# 输出的格式是date类\n",
    "t = datetime.date(2016, 6, 1)\n",
    "print(t)\n",
    "# (年, 月, 日)→直接得到日期"
   ]
  },
  {
   "cell_type": "code",
   "execution_count": 11,
   "metadata": {},
   "outputs": [
    {
     "name": "stdout",
     "output_type": "stream",
     "text": [
      "2019-11-17 21:26:53.477458 <class 'datetime.datetime'>\n",
      "--------------------------\n",
      "2019-11-17 21:26:53.477458 <class 'str'>\n",
      "--------------------------\n",
      "2016-06-01 00:00:00\n",
      "--------------------------\n",
      "2014-01-01 12:44:33\n",
      "--------------------------\n"
     ]
    },
    {
     "data": {
      "text/plain": [
       "datetime.timedelta(days=-882, seconds=45873)"
      ]
     },
     "execution_count": 11,
     "metadata": {},
     "output_type": "execute_result"
    }
   ],
   "source": [
    "# datetime.datetime:datetime对象\n",
    "now = datetime.datetime.now()\n",
    "print(now, type(now))\n",
    "print('--------------------------')\n",
    "print(str(now), type(str(now)))\n",
    "print('--------------------------')\n",
    "# .now方法输出当前时间\n",
    "# 输出格式为datetime类\n",
    "# 可以通过str()转化为字符串\n",
    "\n",
    "t1 = datetime.datetime(2016, 6, 1)\n",
    "print(t1)\n",
    "print('--------------------------')\n",
    "t2 = datetime.datetime(2014, 1, 1, 12, 44, 33)\n",
    "print(t2)\n",
    "print('--------------------------')\n",
    "# (年, 月, 日, 时, 分, 秒), 至少输入年月日\n",
    "t2 - t1\n",
    "# 相减得到时间差:timedelta"
   ]
  },
  {
   "cell_type": "code",
   "execution_count": 13,
   "metadata": {},
   "outputs": [
    {
     "name": "stdout",
     "output_type": "stream",
     "text": [
      "2019-11-17 21:34:06.256959\n",
      "2019-11-16 21:34:06.256959\n",
      "2019-11-10 21:34:06.256959\n"
     ]
    }
   ],
   "source": [
    "# datetime.timedelta:时间差\n",
    "today = datetime.datetime.today()  # datetime.datetime也有today()方法\n",
    "yesterday = today - datetime.timedelta(1)\n",
    "print(today)\n",
    "print(yesterday)\n",
    "print(today - datetime.timedelta(7))\n",
    "# 时间差主要用作时间的加减法，相当于可被识别的时间差值"
   ]
  },
  {
   "cell_type": "code",
   "execution_count": 16,
   "metadata": {},
   "outputs": [
    {
     "name": "stdout",
     "output_type": "stream",
     "text": [
      "2017-12-21 00:00:00 <class 'datetime.datetime'>\n",
      "--------------------------\n",
      "2000-01-01 00:00:00\n",
      "2014-05-01 00:00:00\n",
      "2014-01-05 00:00:00\n",
      "2014-01-22 00:00:00\n",
      "2019-01-31 22:45:00\n"
     ]
    }
   ],
   "source": [
    "# parser.parse:日期的解析方法，日期字符串转换\n",
    "from dateutil.parser import parse  # 导入日期解析方法\n",
    "\n",
    "date = '12-21-2017'\n",
    "t = parse(date)\n",
    "print(t, type(t))\n",
    "print('--------------------------')\n",
    "# parser.parse方法可以将字符串直接转换为datetime.datetime类型\n",
    "print(parse('2000-1-1'))\n",
    "print(parse('5/1/2014'))\n",
    "print(parse('5/1/2014', dayfirst=True))  # 国际通用格式中，日在月之前可以通过dayfirst=True进行甚至\n",
    "print(parse('22/1/2014'))\n",
    "print(parse('Jan 31,1997 10:45PM'))\n",
    "# 各种格式都可以解析，但无法支持中文"
   ]
  },
  {
   "cell_type": "code",
   "execution_count": null,
   "metadata": {},
   "outputs": [],
   "source": [
    "'''\n",
    "Pandas时刻数据:Timestamp\n",
    "时刻数据代表时间点，是pandas的数据类型，是将值与时间点相关联的最基本类型的时间序列数据\n",
    "pandas.Timestamp\n",
    "'''"
   ]
  },
  {
   "cell_type": "code",
   "execution_count": 2,
   "metadata": {},
   "outputs": [
    {
     "name": "stdout",
     "output_type": "stream",
     "text": [
      "2016-12-01 12:45:30 <class 'pandas._libs.tslibs.timestamps.Timestamp'>\n",
      "--------------------------\n",
      "2017-12-21 00:00:00 <class 'pandas._libs.tslibs.timestamps.Timestamp'>\n",
      "--------------------------\n",
      "2017-12-21 15:00:22\n"
     ]
    }
   ],
   "source": [
    "# pd.Timestamp()\n",
    "import numpy as np\n",
    "import pandas as pd\n",
    "\n",
    "# 创建一个datetime.datetime\n",
    "date1 = datetime.datetime(2016, 12, 1, 12, 45, 30)\n",
    "date2 = '2017-12-21'  # 创建一个字符串\n",
    "t1 = pd.Timestamp(date1)\n",
    "t2 = pd.Timestamp(date2)\n",
    "print(t1, type(t1))\n",
    "print('--------------------------')\n",
    "print(t2, type(t2))\n",
    "print('--------------------------')\n",
    "print(pd.Timestamp('2017-12-21 15:00:22'))\n",
    "# 直接生成pandas的时刻数据:时间戳\n",
    "# 数据类型为pandas的Timestamp"
   ]
  },
  {
   "cell_type": "code",
   "execution_count": 21,
   "metadata": {},
   "outputs": [
    {
     "name": "stdout",
     "output_type": "stream",
     "text": [
      "2016-12-01 12:45:30 <class 'pandas._libs.tslibs.timestamps.Timestamp'>\n",
      "--------------------------\n",
      "2017-12-21 00:00:00 <class 'pandas._libs.tslibs.timestamps.Timestamp'>\n",
      "--------------------------\n",
      "DatetimeIndex(['2017-12-21', '2017-12-22', '2017-12-23'], dtype='datetime64[ns]', freq=None) <class 'pandas.core.indexes.datetimes.DatetimeIndex'>\n"
     ]
    }
   ],
   "source": [
    "# pd.to_datetime\n",
    "from datetime import datetime\n",
    "date1 = datetime(2016, 12, 1, 12, 45, 30)\n",
    "date2 = '2017-12-21'\n",
    "t1 = pd.to_datetime(date1)\n",
    "t2 = pd.to_datetime(date2)\n",
    "print(t1, type(t1))\n",
    "print('--------------------------')\n",
    "print(t2, type(t2))\n",
    "print('--------------------------')\n",
    "# pd.to_datetime():如果是单个时间数据，转换成pandas的时刻数据，数据类型为TimeStamp\n",
    "lst_date = ['2017-12-21', '2017-12-22', '2017-12-23']\n",
    "t3 = pd.to_datetime(lst_date)\n",
    "print(t3, type(t3))\n",
    "# 多个时间数据的话，将会转换成pandas的DatetimeIndex"
   ]
  },
  {
   "cell_type": "code",
   "execution_count": 31,
   "metadata": {},
   "outputs": [
    {
     "name": "stdout",
     "output_type": "stream",
     "text": [
      "[datetime.datetime(2015, 6, 1, 0, 0), datetime.datetime(2015, 7, 1, 0, 0), datetime.datetime(2015, 8, 1, 0, 0), datetime.datetime(2015, 9, 1, 0, 0), datetime.datetime(2015, 10, 1, 0, 0)]\n",
      "--------------------------\n",
      "['2017-2-1', '2017-2-2', '2017-2-3', '2017-2-4', '2017-2-5', '2017-2-6']\n",
      "--------------------------\n",
      "DatetimeIndex(['2015-06-01', '2015-07-01', '2015-08-01', '2015-09-01',\n",
      "               '2015-10-01'],\n",
      "              dtype='datetime64[ns]', freq=None)\n",
      "--------------------------\n",
      "DatetimeIndex(['2017-02-01', '2017-02-02', '2017-02-03', '2017-02-04',\n",
      "               '2017-02-05', '2017-02-06'],\n",
      "              dtype='datetime64[ns]', freq=None)\n",
      "--------------------------\n",
      "Index(['2017-2-1', '2017-2-2', '2017-2-3', 'hello world!', '2017-2-5',\n",
      "       '2017-2-6'],\n",
      "      dtype='object') <class 'pandas.core.indexes.base.Index'>\n",
      "--------------------------\n",
      "DatetimeIndex(['2017-02-01', '2017-02-02', '2017-02-03', 'NaT', '2017-02-05',\n",
      "               '2017-02-06'],\n",
      "              dtype='datetime64[ns]', freq=None) <class 'pandas.core.indexes.datetimes.DatetimeIndex'>\n"
     ]
    }
   ],
   "source": [
    "# pd.to_datetime:多个时间数据转换时间戳\n",
    "date1 = [datetime(2015, 6, 1), datetime(2015, 7, 1), datetime(2015, 8, 1), datetime(2015, 9, 1), datetime(2015, 10, 1)]\n",
    "print(date1)\n",
    "print('--------------------------')\n",
    "date2 = ['2017-2-1', '2017-2-2', '2017-2-3', '2017-2-4', '2017-2-5', '2017-2-6']\n",
    "print(date2)\n",
    "print('--------------------------')\n",
    "t1 = pd.to_datetime(date1)\n",
    "t2 = pd.to_datetime(date2)\n",
    "print(t1)\n",
    "print('--------------------------')\n",
    "print(t2)\n",
    "# 多个时间数据转换为DatetimeIndex\n",
    "print('--------------------------')\n",
    "\n",
    "date3 = ['2017-2-1', '2017-2-2', '2017-2-3', 'hello world!', '2017-2-5', '2017-2-6']\n",
    "t3 = pd.to_datetime(date3, errors='ignore')\n",
    "print(t3, type(t3))\n",
    "# 当一组时间序列中夹杂其他格式数据，可用errors参数返回\n",
    "# errors='ignore':不可解析时返回原始输入，这里就是直接生成一般的一维数组\n",
    "print('--------------------------')\n",
    "t4 = pd.to_datetime(date3, errors='coerce')\n",
    "print(t4, type(t4))\n",
    "# errors='coerce':不可扩展，缺失值返回NaT(Not A Time),结果认为DatetimeIndex"
   ]
  },
  {
   "cell_type": "code",
   "execution_count": null,
   "metadata": {},
   "outputs": [],
   "source": [
    "'''\n",
    "Pandas时间戳索引:DatetimeIndex\n",
    "核心:pd.date_range()\n",
    "'''"
   ]
  },
  {
   "cell_type": "code",
   "execution_count": 35,
   "metadata": {},
   "outputs": [
    {
     "name": "stdout",
     "output_type": "stream",
     "text": [
      "DatetimeIndex(['2017-12-01', '2017-12-02', '2017-12-03', '2017-12-04',\n",
      "               '2017-12-05'],\n",
      "              dtype='datetime64[ns]', freq=None) <class 'pandas.core.indexes.datetimes.DatetimeIndex'>\n",
      "--------------------------\n",
      "2017-12-01 00:00:00 <class 'pandas._libs.tslibs.timestamps.Timestamp'>\n",
      "--------------------------\n",
      "2017-12-01    0.353523\n",
      "2017-12-02    0.359498\n",
      "2017-12-03    0.272747\n",
      "2017-12-04    0.798278\n",
      "2017-12-05    0.017763\n",
      "dtype: float64 <class 'pandas.core.series.Series'>\n",
      "--------------------------\n",
      "DatetimeIndex(['2017-12-01', '2017-12-02', '2017-12-03', '2017-12-04',\n",
      "               '2017-12-05'],\n",
      "              dtype='datetime64[ns]', freq=None)\n"
     ]
    }
   ],
   "source": [
    "# pd.DatetimeIndex()与TimeSeries时间序列\n",
    "rng = pd.DatetimeIndex(['12/1/2017', '12/2/2017', '12/3/2017', '12/4/2017', '12/5/2017'])\n",
    "print(rng, type(rng))\n",
    "print('--------------------------')\n",
    "print(rng[0], type(rng[0]))\n",
    "# 直接生成时间戳索引，支持str、datetime.datetime\n",
    "# 单个时间戳是Timestamp,多个时间戳为DatetimeIndex\n",
    "print('--------------------------')\n",
    "\n",
    "st = pd.Series(np.random.rand(len(rng)), index=rng)\n",
    "print(st, type(st))\n",
    "print('--------------------------')\n",
    "print(st.index)\n",
    "# 以DatetimeIndex为index的Series,为timeseries，时间序列"
   ]
  },
  {
   "cell_type": "code",
   "execution_count": 11,
   "metadata": {},
   "outputs": [
    {
     "name": "stdout",
     "output_type": "stream",
     "text": [
      "DatetimeIndex(['2017-01-01', '2017-01-02', '2017-01-03', '2017-01-04',\n",
      "               '2017-01-05', '2017-01-06', '2017-01-07', '2017-01-08',\n",
      "               '2017-01-09', '2017-01-10'],\n",
      "              dtype='datetime64[ns]', freq='D') <class 'pandas.core.indexes.datetimes.DatetimeIndex'>\n",
      "------------------------------------\n",
      "DatetimeIndex(['2017-01-01', '2017-01-02', '2017-01-03', '2017-01-04',\n",
      "               '2017-01-05', '2017-01-06', '2017-01-07', '2017-01-08',\n",
      "               '2017-01-09', '2017-01-10'],\n",
      "              dtype='datetime64[ns]', freq='D')\n",
      "------------------------------------\n",
      "DatetimeIndex(['2017-01-21 15:00:00', '2017-01-22 15:00:00',\n",
      "               '2017-01-23 15:00:00', '2017-01-24 15:00:00',\n",
      "               '2017-01-25 15:00:00', '2017-01-26 15:00:00',\n",
      "               '2017-01-27 15:00:00', '2017-01-28 15:00:00',\n",
      "               '2017-01-29 15:00:00', '2017-01-30 15:00:00'],\n",
      "              dtype='datetime64[ns]', freq='D')\n",
      "------------------------------------\n",
      "DatetimeIndex(['2017-01-01', '2017-01-02', '2017-01-03', '2017-01-04',\n",
      "               '2017-01-05', '2017-01-06', '2017-01-07', '2017-01-08',\n",
      "               '2017-01-09', '2017-01-10'],\n",
      "              dtype='datetime64[ns]', name='hello world', freq='D')\n",
      "------------------------------------\n",
      "DatetimeIndex(['2017-01-01', '2017-01-02', '2017-01-03', '2017-01-04'], dtype='datetime64[ns]', freq='D')\n",
      "DatetimeIndex(['2017-01-02', '2017-01-03', '2017-01-04'], dtype='datetime64[ns]', freq='D')\n",
      "DatetimeIndex(['2017-01-01', '2017-01-02', '2017-01-03'], dtype='datetime64[ns]', freq='D')\n",
      "DatetimeIndex(['2017-01-02', '2017-01-03', '2017-01-04', '2017-01-05',\n",
      "               '2017-01-06'],\n",
      "              dtype='datetime64[ns]', freq='B')\n",
      "[Timestamp('2017-01-01 00:00:00', freq='D'), Timestamp('2017-01-02 00:00:00', freq='D'), Timestamp('2017-01-03 00:00:00', freq='D'), Timestamp('2017-01-04 00:00:00', freq='D'), Timestamp('2017-01-05 00:00:00', freq='D'), Timestamp('2017-01-06 00:00:00', freq='D'), Timestamp('2017-01-07 00:00:00', freq='D'), Timestamp('2017-01-08 00:00:00', freq='D'), Timestamp('2017-01-09 00:00:00', freq='D'), Timestamp('2017-01-10 00:00:00', freq='D')]\n"
     ]
    }
   ],
   "source": [
    "# pd.date_range()-日期范围:生成日期范围\n",
    "# 2种生成方式:①start+end;②start/end + periods\n",
    "# 默认频率:day\n",
    "rng1 = pd.date_range('1/1/2017', '1/10/2017', normalize=True)\n",
    "print(rng1, type(rng1))\n",
    "print('------------------------------------')\n",
    "rng2 = pd.date_range(start='1/1/2017', periods=10)\n",
    "print(rng2)\n",
    "print('------------------------------------')\n",
    "rng3 = pd.date_range(end='1/30/2017 15:00:00', periods=10)  # 增加了时、分、秒\n",
    "print(rng3)\n",
    "# 直接生成DatetimeIndex\n",
    "# pd.date_range(start=None, end=None, periods=None, freq='D', tz=None, normalize=False, name=None, closed=None, **kwargs)\n",
    "# start:开始时间\n",
    "# end:结束时间\n",
    "# periods:偏移量\n",
    "# freq:频率, 默认为天，pd.date_range()默认频率为日历日，pd.bdate_range()默认是工作日\n",
    "# tz:时区\n",
    "print('------------------------------------')\n",
    "rng4 = pd.date_range(start='1/1/2017 15:30', periods=10, name='hello world', normalize=True)\n",
    "print(rng4)\n",
    "# normalize:时间参数值正则化到午夜时间戳(这里最后就直接变成0:00:00,并不是15：30：00)\n",
    "# name:索引对象名称\n",
    "print('------------------------------------')\n",
    "print(pd.date_range('20170101', '20170104'))  # 20170101也可以读取\n",
    "print(pd.date_range('20170101', '20170104', closed='right'))\n",
    "print(pd.date_range('20170101', '20170104', closed='left'))\n",
    "# closed:默认为None的情况下，左闭右开，left则左闭右闭，left则左闭右开， right则右闭左开\n",
    "print(pd.bdate_range('20170101', '20170107'))\n",
    "# bdate_range():默认频率为工作日\n",
    "print(list(pd.date_range(start='1/1/2017', periods=10)))\n",
    "# 直接转化为List,元素为timestamp"
   ]
  },
  {
   "cell_type": "code",
   "execution_count": 17,
   "metadata": {},
   "outputs": [
    {
     "name": "stdout",
     "output_type": "stream",
     "text": [
      "DatetimeIndex(['2017-01-01', '2017-01-02', '2017-01-03', '2017-01-04'], dtype='datetime64[ns]', freq='D')\n",
      "DatetimeIndex(['2017-01-02', '2017-01-03', '2017-01-04'], dtype='datetime64[ns]', freq='B')\n",
      "DatetimeIndex(['2017-01-01 00:00:00', '2017-01-01 01:00:00',\n",
      "               '2017-01-01 02:00:00', '2017-01-01 03:00:00',\n",
      "               '2017-01-01 04:00:00', '2017-01-01 05:00:00',\n",
      "               '2017-01-01 06:00:00', '2017-01-01 07:00:00',\n",
      "               '2017-01-01 08:00:00', '2017-01-01 09:00:00',\n",
      "               '2017-01-01 10:00:00', '2017-01-01 11:00:00',\n",
      "               '2017-01-01 12:00:00', '2017-01-01 13:00:00',\n",
      "               '2017-01-01 14:00:00', '2017-01-01 15:00:00',\n",
      "               '2017-01-01 16:00:00', '2017-01-01 17:00:00',\n",
      "               '2017-01-01 18:00:00', '2017-01-01 19:00:00',\n",
      "               '2017-01-01 20:00:00', '2017-01-01 21:00:00',\n",
      "               '2017-01-01 22:00:00', '2017-01-01 23:00:00',\n",
      "               '2017-01-02 00:00:00'],\n",
      "              dtype='datetime64[ns]', freq='H')\n",
      "DatetimeIndex(['2017-01-01 12:00:00', '2017-01-01 12:01:00',\n",
      "               '2017-01-01 12:02:00', '2017-01-01 12:03:00',\n",
      "               '2017-01-01 12:04:00', '2017-01-01 12:05:00',\n",
      "               '2017-01-01 12:06:00', '2017-01-01 12:07:00',\n",
      "               '2017-01-01 12:08:00', '2017-01-01 12:09:00',\n",
      "               '2017-01-01 12:10:00'],\n",
      "              dtype='datetime64[ns]', freq='T')\n",
      "DatetimeIndex(['2017-01-01 12:00:00', '2017-01-01 12:00:01',\n",
      "               '2017-01-01 12:00:02', '2017-01-01 12:00:03',\n",
      "               '2017-01-01 12:00:04', '2017-01-01 12:00:05',\n",
      "               '2017-01-01 12:00:06', '2017-01-01 12:00:07',\n",
      "               '2017-01-01 12:00:08', '2017-01-01 12:00:09',\n",
      "               '2017-01-01 12:00:10'],\n",
      "              dtype='datetime64[ns]', freq='S')\n",
      "DatetimeIndex([       '2017-01-01 12:00:00', '2017-01-01 12:00:00.001000',\n",
      "               '2017-01-01 12:00:00.002000', '2017-01-01 12:00:00.003000',\n",
      "               '2017-01-01 12:00:00.004000', '2017-01-01 12:00:00.005000',\n",
      "               '2017-01-01 12:00:00.006000', '2017-01-01 12:00:00.007000',\n",
      "               '2017-01-01 12:00:00.008000', '2017-01-01 12:00:00.009000',\n",
      "               ...\n",
      "               '2017-01-01 12:00:09.991000', '2017-01-01 12:00:09.992000',\n",
      "               '2017-01-01 12:00:09.993000', '2017-01-01 12:00:09.994000',\n",
      "               '2017-01-01 12:00:09.995000', '2017-01-01 12:00:09.996000',\n",
      "               '2017-01-01 12:00:09.997000', '2017-01-01 12:00:09.998000',\n",
      "               '2017-01-01 12:00:09.999000',        '2017-01-01 12:00:10'],\n",
      "              dtype='datetime64[ns]', length=10001, freq='L')\n",
      "DatetimeIndex([       '2017-01-01 12:00:00', '2017-01-01 12:00:00.000001',\n",
      "               '2017-01-01 12:00:00.000002', '2017-01-01 12:00:00.000003',\n",
      "               '2017-01-01 12:00:00.000004', '2017-01-01 12:00:00.000005',\n",
      "               '2017-01-01 12:00:00.000006', '2017-01-01 12:00:00.000007',\n",
      "               '2017-01-01 12:00:00.000008', '2017-01-01 12:00:00.000009',\n",
      "               ...\n",
      "               '2017-01-01 12:00:09.999991', '2017-01-01 12:00:09.999992',\n",
      "               '2017-01-01 12:00:09.999993', '2017-01-01 12:00:09.999994',\n",
      "               '2017-01-01 12:00:09.999995', '2017-01-01 12:00:09.999996',\n",
      "               '2017-01-01 12:00:09.999997', '2017-01-01 12:00:09.999998',\n",
      "               '2017-01-01 12:00:09.999999',        '2017-01-01 12:00:10'],\n",
      "              dtype='datetime64[ns]', length=10000001, freq='U')\n",
      "-------------------------------------------\n",
      "DatetimeIndex(['2017-01-02', '2017-01-09', '2017-01-16', '2017-01-23',\n",
      "               '2017-01-30'],\n",
      "              dtype='datetime64[ns]', freq='W-MON')\n",
      "DatetimeIndex(['2017-01-09', '2017-02-13', '2017-03-13', '2017-04-10'], dtype='datetime64[ns]', freq='WOM-2MON')\n"
     ]
    }
   ],
   "source": [
    "# pd.date_range()——日期范围：频率(1)\n",
    "print(pd.date_range('2017/1/1', '2017/1/4'))  # 默认freq=‘D’:每个日历日\n",
    "print(pd.date_range('2017/1/1', '2017/1/4', freq='B'))  # freq='B':每工作日\n",
    "print(pd.date_range('2017/1/1', '2017/1/2', freq='H'))  # freq='H':每小时\n",
    "print(pd.date_range('2017/1/1 12:00', '2017/1/1 12:10', freq='MIN'))  # freq='MIN'或者freq='T':每分\n",
    "print(pd.date_range('2017/1/1 12:00:00', '2017/1/1 12:00:10', freq='S'))  # freq='S':每秒\n",
    "print(pd.date_range('2017/1/1 12:00:00', '2017/1/1 12:00:10', freq='L'))  # freq='L':每毫秒\n",
    "print(pd.date_range('2017/1/1 12:00:00', '2017/1/1 12:00:10', freq='U'))  # freq='U': 每微秒\n",
    "print('-------------------------------------------')\n",
    "print(pd.date_range('2017/1/1', '2017/2/1', freq='W-MON'))\n",
    "# W-MON:从指定星期几开始算起，每周\n",
    "# 星期几缩写:MON/TUE/WED/THS/FRI/SAT/SUN\n",
    "print(pd.date_range('2017/1/1', '2017/5/1', freq='WOM-2MON'))\n",
    "# WOM-2MON:每月第二周的星期一"
   ]
  },
  {
   "cell_type": "code",
   "execution_count": 6,
   "metadata": {},
   "outputs": [
    {
     "name": "stdout",
     "output_type": "stream",
     "text": [
      "DatetimeIndex(['2017-01-31', '2017-02-28', '2017-03-31', '2017-04-30',\n",
      "               '2017-05-31', '2017-06-30', '2017-07-31', '2017-08-31',\n",
      "               '2017-09-30', '2017-10-31', '2017-11-30', '2017-12-31'],\n",
      "              dtype='datetime64[ns]', freq='M')\n",
      "DatetimeIndex(['2017-03-31', '2017-06-30', '2017-09-30', '2017-12-31',\n",
      "               '2018-03-31', '2018-06-30', '2018-09-30', '2018-12-31',\n",
      "               '2019-03-31', '2019-06-30', '2019-09-30', '2019-12-31'],\n",
      "              dtype='datetime64[ns]', freq='Q-DEC')\n",
      "DatetimeIndex(['2017-12-31', '2018-12-31', '2019-12-31'], dtype='datetime64[ns]', freq='A-DEC')\n",
      "---------------------------------\n",
      "DatetimeIndex(['2017-01-31', '2017-02-28', '2017-03-31', '2017-04-28',\n",
      "               '2017-05-31', '2017-06-30', '2017-07-31', '2017-08-31',\n",
      "               '2017-09-29', '2017-10-31', '2017-11-30', '2017-12-29'],\n",
      "              dtype='datetime64[ns]', freq='BM')\n",
      "DatetimeIndex(['2017-03-31', '2017-06-30', '2017-09-29', '2017-12-29'], dtype='datetime64[ns]', freq='BQ-DEC')\n",
      "DatetimeIndex(['2017-12-29', '2018-12-31', '2019-12-31'], dtype='datetime64[ns]', freq='BA-DEC')\n",
      "--------------------------\n",
      "DatetimeIndex(['2017-01-01', '2017-02-01', '2017-03-01', '2017-04-01',\n",
      "               '2017-05-01', '2017-06-01', '2017-07-01', '2017-08-01',\n",
      "               '2017-09-01', '2017-10-01', '2017-11-01', '2017-12-01',\n",
      "               '2018-01-01'],\n",
      "              dtype='datetime64[ns]', freq='MS')\n",
      "DatetimeIndex(['2017-03-01', '2017-06-01', '2017-09-01', '2017-12-01'], dtype='datetime64[ns]', freq='QS-DEC')\n",
      "DatetimeIndex(['2017-12-01', '2018-12-01', '2019-12-01'], dtype='datetime64[ns]', freq='AS-DEC')\n",
      "--------------------------\n",
      "DatetimeIndex(['2017-01-02', '2017-02-01', '2017-03-01', '2017-04-03',\n",
      "               '2017-05-01', '2017-06-01', '2017-07-03', '2017-08-01',\n",
      "               '2017-09-01', '2017-10-02', '2017-11-01', '2017-12-01',\n",
      "               '2018-01-01'],\n",
      "              dtype='datetime64[ns]', freq='BMS')\n",
      "DatetimeIndex(['2017-03-01', '2017-06-01', '2017-09-01', '2017-12-01',\n",
      "               '2018-03-01', '2018-06-01', '2018-09-03', '2018-12-03',\n",
      "               '2019-03-01', '2019-06-03', '2019-09-02', '2019-12-02'],\n",
      "              dtype='datetime64[ns]', freq='BQS-DEC')\n",
      "DatetimeIndex(['2017-12-01', '2018-12-03', '2019-12-02'], dtype='datetime64[ns]', freq='BAS-DEC')\n"
     ]
    }
   ],
   "source": [
    "# pd.date_range()——日期范围:频率(2)\n",
    "print(pd.date_range('2017', '2018', freq='M'))  # 每月的最后一天\n",
    "print(pd.date_range('2017', '2020', freq='Q-DEC'))  # Q-月:指定月为季度末，每个季度末最后一个月···\n",
    "print(pd.date_range('2017', '2020', freq='A-DEC'))  # A-DEC:每年指定月份的最后一个日历日\n",
    "# 月缩写:JAN/FEB/MAR/APR/MAY/JUN/JUL/AUG/SEP/OCT/NOV/DEC\n",
    "# 所以Q-月只有三种写法:1-4-7-10,2-5-8-11,3-6-9-12\n",
    "print('---------------------------------')\n",
    "print(pd.date_range('2017', '2018', freq='BM'))  # freq='BM':每月最后一个工作日\n",
    "print(pd.date_range('2017', '2018', freq='BQ-DEC'))  # freq='BQ-DEC':每个季度指定月份的最后一个工作日\n",
    "print(pd.date_range('2017', '2020', freq='BA-DEC'))  # freq='BA-DEC':每年指定月份的最后一个工作日\n",
    "print('--------------------------')\n",
    "print(pd.date_range('2017', '2018', freq='MS'))  # freq='MS':每月第一个日历日\n",
    "print(pd.date_range('2017', '2018', freq='QS-DEC'))  # freq='QS-DEC':每个季度指定月份的第一个日历日\n",
    "print(pd.date_range('2017', '2020', freq='AS-DEC'))  # freq='AS-DEC':每个季度\n",
    "print('--------------------------')\n",
    "print(pd.date_range('2017', '2018', freq='BMS'))  # freq='BMS':每月第一个工作日\n",
    "print(pd.date_range('2017', '2020', freq='BQS-DEC'))  # freq='BQS-DEC':每个季度的月份第一个工作日 \n",
    "print(pd.date_range('2017', '2020', freq='BAS-DEC'))  # 每年指定月的第一个工作日"
   ]
  },
  {
   "cell_type": "code",
   "execution_count": 9,
   "metadata": {},
   "outputs": [
    {
     "name": "stdout",
     "output_type": "stream",
     "text": [
      "DatetimeIndex(['2017-01-01', '2017-01-08', '2017-01-15', '2017-01-22',\n",
      "               '2017-01-29'],\n",
      "              dtype='datetime64[ns]', freq='7D')\n",
      "DatetimeIndex(['2017-01-01 00:00:00', '2017-01-01 02:30:00',\n",
      "               '2017-01-01 05:00:00', '2017-01-01 07:30:00',\n",
      "               '2017-01-01 10:00:00', '2017-01-01 12:30:00',\n",
      "               '2017-01-01 15:00:00', '2017-01-01 17:30:00',\n",
      "               '2017-01-01 20:00:00', '2017-01-01 22:30:00'],\n",
      "              dtype='datetime64[ns]', freq='150T')\n",
      "DatetimeIndex(['2017-01-31', '2017-03-31', '2017-05-31', '2017-07-31',\n",
      "               '2017-09-30', '2017-11-30'],\n",
      "              dtype='datetime64[ns]', freq='2M')\n"
     ]
    }
   ],
   "source": [
    "# pd.date_range()——日期范围:复合频率\n",
    "print(pd.date_range('2017/1/1', '2017/2/1', freq='7D'))  # 7天\n",
    "print(pd.date_range('2017/1/1', '2017/1/2', freq='2h30min'))  # 2小时30分钟\n",
    "print(pd.date_range('2017', '2018', freq='2M'))  # 2个月，每月最后一个工作日"
   ]
  },
  {
   "cell_type": "code",
   "execution_count": 12,
   "metadata": {},
   "outputs": [
    {
     "name": "stdout",
     "output_type": "stream",
     "text": [
      "2017-01-01    0.014539\n",
      "2017-01-02    0.010807\n",
      "2017-01-03    0.091900\n",
      "2017-01-04    0.018972\n",
      "Freq: D, dtype: float64\n",
      "2017-01-01 00:00:00    0.014539\n",
      "2017-01-01 04:00:00    0.014539\n",
      "2017-01-01 08:00:00    0.014539\n",
      "2017-01-01 12:00:00    0.014539\n",
      "2017-01-01 16:00:00    0.014539\n",
      "2017-01-01 20:00:00    0.014539\n",
      "2017-01-02 00:00:00    0.010807\n",
      "2017-01-02 04:00:00    0.010807\n",
      "2017-01-02 08:00:00    0.010807\n",
      "2017-01-02 12:00:00    0.010807\n",
      "2017-01-02 16:00:00    0.010807\n",
      "2017-01-02 20:00:00    0.010807\n",
      "2017-01-03 00:00:00    0.091900\n",
      "2017-01-03 04:00:00    0.091900\n",
      "2017-01-03 08:00:00    0.091900\n",
      "2017-01-03 12:00:00    0.091900\n",
      "2017-01-03 16:00:00    0.091900\n",
      "2017-01-03 20:00:00    0.091900\n",
      "2017-01-04 00:00:00    0.018972\n",
      "Freq: 4H, dtype: float64\n"
     ]
    }
   ],
   "source": [
    "# asfreq:时期频率转换\n",
    "ts = pd.Series(np.random.rand(4), index=pd.date_range('20170101', '20170104'))\n",
    "print(ts)\n",
    "print(ts.asfreq('4H', method='ffill'))\n",
    "# 改变频率，这里是D改为4H\n",
    "# method:插值模式，None不插值，ffill按之前的值插，bfill用之后值填充"
   ]
  },
  {
   "cell_type": "code",
   "execution_count": 3,
   "metadata": {},
   "outputs": [
    {
     "name": "stdout",
     "output_type": "stream",
     "text": [
      "2017-01-01    0.063388\n",
      "2017-01-02    0.130844\n",
      "2017-01-03    0.938933\n",
      "2017-01-04    0.690458\n",
      "Freq: D, dtype: float64\n",
      "2017-01-01         NaN\n",
      "2017-01-02         NaN\n",
      "2017-01-03    0.063388\n",
      "2017-01-04    0.130844\n",
      "Freq: D, dtype: float64\n",
      "2017-01-01    0.938933\n",
      "2017-01-02    0.690458\n",
      "2017-01-03         NaN\n",
      "2017-01-04         NaN\n",
      "Freq: D, dtype: float64\n",
      "---------------------\n",
      "2017-01-01         NaN\n",
      "2017-01-02    0.063388\n",
      "2017-01-03    0.130844\n",
      "2017-01-04    0.938933\n",
      "Freq: D, dtype: float64\n",
      "2017-01-01         NaN\n",
      "2017-01-02    1.064168\n",
      "2017-01-03    6.175959\n",
      "2017-01-04   -0.264636\n",
      "Freq: D, dtype: float64\n",
      "---------------------------\n",
      "2017-01-03    0.063388\n",
      "2017-01-04    0.130844\n",
      "2017-01-05    0.938933\n",
      "2017-01-06    0.690458\n",
      "Freq: D, dtype: float64\n"
     ]
    }
   ],
   "source": [
    "# pd.date_range()——日期范围:超前/滞后数据\n",
    "ts = pd.Series(np.random.rand(4), index=pd.date_range('20170101', '20170104'))\n",
    "print(ts)\n",
    "\n",
    "print(ts.shift(2))\n",
    "print(ts.shift(-2))\n",
    "# 正数:数值后移；负数:数值前移\n",
    "print('---------------------')\n",
    "print(ts.shift(1))\n",
    "per = ts/ts.shift(1) - 1\n",
    "print(per)\n",
    "# 计算变化百分比，这里计算:该时间戳与上一个时间戳相比，变化百分比\n",
    "print('---------------------------')\n",
    "print(ts.shift(2, freq='D'))\n",
    "print(ts.shift())"
   ]
  }
 ],
 "metadata": {
  "kernelspec": {
   "display_name": "Python 3",
   "language": "python",
   "name": "python3"
  },
  "language_info": {
   "codemirror_mode": {
    "name": "ipython",
    "version": 3
   },
   "file_extension": ".py",
   "mimetype": "text/x-python",
   "name": "python",
   "nbconvert_exporter": "python",
   "pygments_lexer": "ipython3",
   "version": "3.8.0"
  }
 },
 "nbformat": 4,
 "nbformat_minor": 2
}
