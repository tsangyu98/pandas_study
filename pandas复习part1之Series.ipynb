{
 "cells": [
  {
   "cell_type": "code",
   "execution_count": null,
   "metadata": {},
   "outputs": [],
   "source": [
    "'''\n",
    "Pandas数据结构Series:基本概念及创建\n",
    "一维数组:Series\n",
    "'''"
   ]
  },
  {
   "cell_type": "code",
   "execution_count": 1,
   "metadata": {},
   "outputs": [],
   "source": [
    "# Series数据结构\n",
    "# Series是带有标签的一维数组，可以保存任何数据类型(整型，字符串，浮点数，python对象等)，轴标签统称为索引"
   ]
  },
  {
   "cell_type": "code",
   "execution_count": 1,
   "metadata": {},
   "outputs": [],
   "source": [
    "import numpy as np\n",
    "import pandas as pd\n",
    "# 导入numpy、pandas模块"
   ]
  },
  {
   "cell_type": "code",
   "execution_count": 6,
   "metadata": {},
   "outputs": [
    {
     "name": "stdout",
     "output_type": "stream",
     "text": [
      "0    0.277536\n",
      "1    0.531916\n",
      "2    0.123649\n",
      "3    0.617291\n",
      "4    0.490847\n",
      "dtype: float64\n",
      "<class 'pandas.core.series.Series'>\n",
      "RangeIndex(start=0, stop=5, step=1) <class 'pandas.core.indexes.range.RangeIndex'>\n",
      "[0.27753571 0.53191557 0.12364861 0.61729083 0.4908473 ] <class 'numpy.ndarray'>\n"
     ]
    }
   ],
   "source": [
    "s = pd.Series(np.random.rand(5))\n",
    "print(s)\n",
    "print(type(s))\n",
    "# 查看数据、数据类型\n",
    "\n",
    "print(s.index, type(s.index))\n",
    "print(s.values, type(s.values))\n",
    "# .index查看series的索引，类型为rangeindex\n",
    "# .values查看series的值，类型为ndarray\n",
    "\n",
    "# 核心:series相当于ndarray,是一个自带索引index的数组 ——>一维数组+自带索引\n",
    "# 所以当只看series的值的时候，就是一个ndarray数组\n",
    "# series和ndarray较相似，索引切片功能差不多\n",
    "# 索引原理和dict相似"
   ]
  },
  {
   "cell_type": "code",
   "execution_count": 11,
   "metadata": {},
   "outputs": [
    {
     "name": "stdout",
     "output_type": "stream",
     "text": [
      "a    1\n",
      "b    2\n",
      "c    3\n",
      "4    4\n",
      "5    5\n",
      "dtype: int64\n",
      "a        1\n",
      "b    hello\n",
      "c        3\n",
      "4        4\n",
      "5        5\n",
      "dtype: object\n"
     ]
    }
   ],
   "source": [
    "# Series创建方法一:由字典创建，字典的key就是index,values就是values\n",
    "dic = {'a':1, 'b':2, 'c':'3', '4':4, '5':5}\n",
    "s = pd.Series(dic, dtype=np.int64)\n",
    "print(s)\n",
    "# 注意:key肯定是字符串，values类型不一样的话\n",
    "dic = {'a':1 ,'b':'hello' , 'c':3, '4':4, '5':5}\n",
    "s = pd.Series(dic)\n",
    "print(s)"
   ]
  },
  {
   "cell_type": "code",
   "execution_count": 14,
   "metadata": {},
   "outputs": [
    {
     "name": "stdout",
     "output_type": "stream",
     "text": [
      "0    0.196702\n",
      "1   -1.289947\n",
      "2    0.887068\n",
      "3    1.484359\n",
      "4   -1.284396\n",
      "dtype: float64\n",
      "a    0.196702\n",
      "b    -1.28995\n",
      "c    0.887068\n",
      "d     1.48436\n",
      "e     -1.2844\n",
      "dtype: object\n"
     ]
    }
   ],
   "source": [
    "# Series创建方法二:由一维数组创建\n",
    "arr = np.random.randn(5)  # 创建一个正态分布数组\n",
    "s = pd.Series(arr)\n",
    "print(s)\n",
    "# 索引默认是从0开始，步长为1的数字\n",
    "\n",
    "s = pd.Series(arr, index=list('abcde'), dtype=np.object)\n",
    "print(s)\n",
    "# index参数:设置index,长度和值保持一致\n",
    "# dtype参数:修改数值类型"
   ]
  },
  {
   "cell_type": "code",
   "execution_count": 15,
   "metadata": {},
   "outputs": [
    {
     "name": "stdout",
     "output_type": "stream",
     "text": [
      "0    10\n",
      "1    10\n",
      "2    10\n",
      "3    10\n",
      "dtype: int64\n"
     ]
    }
   ],
   "source": [
    "# Series创建方法三:由标量创建\n",
    "s = pd.Series(10, index=range(4))\n",
    "print(s)\n",
    "# 如果值是标量，就必须指定index，该值会重复，来匹配索引的长度"
   ]
  },
  {
   "cell_type": "code",
   "execution_count": 22,
   "metadata": {},
   "outputs": [
    {
     "name": "stdout",
     "output_type": "stream",
     "text": [
      "0    0.882321\n",
      "1    0.015010\n",
      "2    3.086206\n",
      "3   -0.083458\n",
      "4   -0.654659\n",
      "dtype: float64\n",
      "None\n",
      "-----------\n",
      "0   -0.247174\n",
      "1    1.157963\n",
      "2    1.189655\n",
      "3    0.551303\n",
      "4   -0.161714\n",
      "Name: test, dtype: float64\n",
      "test <class 'str'>\n",
      "0   -0.247174\n",
      "1    1.157963\n",
      "2    1.189655\n",
      "3    0.551303\n",
      "4   -0.161714\n",
      "Name: hehehe, dtype: float64\n",
      "hehehe test\n"
     ]
    }
   ],
   "source": [
    "# Series名称属性:name\n",
    "s1 = pd.Series(np.random.randn(5))\n",
    "print(s1)\n",
    "print(s1.name)\n",
    "print(\"-----------\")\n",
    "s2 = pd.Series(np.random.randn(5), name='test')\n",
    "print(s2)\n",
    "print(s2.name, type(s2.name))\n",
    "# name为Series的一个参数，用来创建一个数组的名称\n",
    "# .name方法:获取数组的名称，输出格式为str,如果没有定义输出名称，输出为None\n",
    "\n",
    "s3 = s2.rename(\"hehehe\")\n",
    "print(s3)\n",
    "print(s3.name, s2.name)\n",
    "# .rename()重命名一个数组的名称，并且新指向一个数组，原数组不变"
   ]
  },
  {
   "cell_type": "code",
   "execution_count": null,
   "metadata": {},
   "outputs": [],
   "source": [
    "'''\n",
    "Pandas数据结构Series:索引\n",
    "位置下标、标签索引、切片索引、布尔型索引\n",
    "'''"
   ]
  },
  {
   "cell_type": "code",
   "execution_count": 30,
   "metadata": {},
   "outputs": [
    {
     "name": "stdout",
     "output_type": "stream",
     "text": [
      "0    0.222591\n",
      "1    0.037298\n",
      "2    0.964724\n",
      "3    0.750896\n",
      "4    0.296671\n",
      "dtype: float64\n",
      "0.22259094287615222 <class 'numpy.float64'> float64\n",
      "0.22259094287615222 <class 'float'>\n",
      "9\n"
     ]
    }
   ],
   "source": [
    "# 位置下标，类似序列\n",
    "s = pd.Series(np.random.rand(5))\n",
    "print(s)\n",
    "print(s[0], type(s[0]), s[0].dtype)\n",
    "print(float(s[0]), type(float(s[0])))\n",
    "arr = np.arange(10)\n",
    "# 位置下标从0开始\n",
    "# 输出结果为numpy.float64\n",
    "# 可以通过float()函数转换为python float格式\n",
    "# s[-1]会报错"
   ]
  },
  {
   "cell_type": "code",
   "execution_count": 35,
   "metadata": {},
   "outputs": [
    {
     "name": "stdout",
     "output_type": "stream",
     "text": [
      "a    0.192810\n",
      "b    0.292916\n",
      "c    0.902982\n",
      "d    0.457395\n",
      "e    0.050474\n",
      "dtype: float64\n",
      "0.19280978448907027 <class 'numpy.float64'> float64\n",
      "a    0.192810\n",
      "b    0.292916\n",
      "c    0.902982\n",
      "dtype: float64 <class 'pandas.core.series.Series'>\n"
     ]
    }
   ],
   "source": [
    "# 标签索引\n",
    "s = pd.Series(np.random.rand(5), index=list('abcde'))\n",
    "print(s)\n",
    "print(s['a'], type(s['a']), s['a'].dtype)\n",
    "# 标签索引类似于下标索引，用[]表示，内部写上index,index是字符串\n",
    "sci = s[['a', 'b', 'c']]\n",
    "print(sci, type(sci))\n",
    "# 如果需要选择多个标签的值，用[[]]来表示\n",
    "# 多标签索引结果是新的Series"
   ]
  },
  {
   "cell_type": "code",
   "execution_count": 43,
   "metadata": {},
   "outputs": [
    {
     "name": "stdout",
     "output_type": "stream",
     "text": [
      "0    0.815879\n",
      "1    0.461848\n",
      "2    0.725755\n",
      "3    0.765159\n",
      "4    0.251112\n",
      "dtype: float64\n",
      "--------------------------\n",
      "a    0.839991\n",
      "b    0.706046\n",
      "c    0.722757\n",
      "d    0.518312\n",
      "e    0.638508\n",
      "dtype: float64\n",
      "--------------------------\n",
      "1    0.461848\n",
      "2    0.725755\n",
      "3    0.765159\n",
      "dtype: float64 0.25111174544723336\n",
      "--------------------------\n",
      "a    0.839991\n",
      "b    0.706046\n",
      "c    0.722757\n",
      "dtype: float64 0.7227571544371877\n",
      "--------------------------\n",
      "a    0.839991\n",
      "b    0.706046\n",
      "c    0.722757\n",
      "dtype: float64 0.5183124852044844\n",
      "--------------------------\n",
      "a    0.839991\n",
      "b    0.706046\n",
      "c    0.722757\n",
      "d    0.518312\n",
      "dtype: float64\n",
      "--------------------------\n",
      "a    0.839991\n",
      "c    0.722757\n",
      "e    0.638508\n",
      "dtype: float64\n"
     ]
    }
   ],
   "source": [
    "# 切片索引\n",
    "s1 = pd.Series(np.random.rand(5))\n",
    "print(s1)\n",
    "print(\"--------------------------\")\n",
    "s2 = pd.Series(np.random.rand(5), index=list('abcde'))\n",
    "print(s2)\n",
    "print(\"--------------------------\")\n",
    "print(s1[1:4], s1[4])\n",
    "print(\"--------------------------\")\n",
    "print(s2['a':'c'], s2['c'])\n",
    "print(\"--------------------------\")\n",
    "print(s2[0:3], s2[3])\n",
    "print(\"--------------------------\")\n",
    "# 注意:用index做切片是末端包含\n",
    "print(s2[:-1])\n",
    "print(\"--------------------------\")\n",
    "print(s2[::2])\n",
    "# 下标索引做切片，和list写法一样"
   ]
  },
  {
   "cell_type": "code",
   "execution_count": 3,
   "metadata": {},
   "outputs": [
    {
     "name": "stdout",
     "output_type": "stream",
     "text": [
      "0     2.053912\n",
      "1    54.582995\n",
      "2    23.262267\n",
      "dtype: float64\n",
      "0    2.05391\n",
      "1     54.583\n",
      "2    23.2623\n",
      "4       None\n",
      "dtype: object\n",
      "---------------\n",
      "0    False\n",
      "1     True\n",
      "2    False\n",
      "4    False\n",
      "dtype: bool <class 'pandas.core.series.Series'> bool\n",
      "0    False\n",
      "1    False\n",
      "2    False\n",
      "4     True\n",
      "dtype: bool <class 'pandas.core.series.Series'>\n"
     ]
    }
   ],
   "source": [
    "# 布尔型索引\n",
    "s = pd.Series(np.random.rand(3)*100)\n",
    "print(s)\n",
    "s[4] = None  # 添加一个空值\n",
    "print(s)\n",
    "print(\"---------------\")\n",
    "bs1 = s > 50\n",
    "bs2 = s.isnull()\n",
    "bs3 = s.notnull()\n",
    "print(bs1, type(bs1), bs1.dtype)\n",
    "print(bs2, type(bs2))"
   ]
  },
  {
   "cell_type": "code",
   "execution_count": null,
   "metadata": {},
   "outputs": [],
   "source": [
    "'''\n",
    "Pandas数据结构Series:基本技巧\n",
    "数据查看、重新索引、对齐、添加、修改、删除值\n",
    "'''"
   ]
  },
  {
   "cell_type": "code",
   "execution_count": 5,
   "metadata": {},
   "outputs": [
    {
     "name": "stdout",
     "output_type": "stream",
     "text": [
      "0    0.100190\n",
      "1    0.730007\n",
      "2    0.604922\n",
      "3    0.534707\n",
      "4    0.489465\n",
      "5    0.748135\n",
      "6    0.344296\n",
      "7    0.690388\n",
      "8    0.662871\n",
      "9    0.889692\n",
      "dtype: float64\n",
      "45    0.023746\n",
      "46    0.667661\n",
      "47    0.887057\n",
      "48    0.632463\n",
      "49    0.777224\n",
      "dtype: float64\n"
     ]
    }
   ],
   "source": [
    "s = pd.Series(np.random.rand(50))\n",
    "print(s.head(10))\n",
    "print(s.tail())\n",
    "# .head()查看头部数据\n",
    "# .tail()查看尾部数据\n",
    "# 默认查看5条"
   ]
  },
  {
   "cell_type": "code",
   "execution_count": 6,
   "metadata": {},
   "outputs": [
    {
     "name": "stdout",
     "output_type": "stream",
     "text": [
      "a    0.165316\n",
      "b    0.078720\n",
      "c    0.423619\n",
      "dtype: float64\n",
      "c    0.423619\n",
      "a    0.165316\n",
      "b    0.078720\n",
      "d         NaN\n",
      "dtype: float64\n",
      "------------------------\n",
      "c    0.423619\n",
      "b    0.078720\n",
      "a    0.165316\n",
      "d    0.000000\n",
      "dtype: float64\n"
     ]
    }
   ],
   "source": [
    "# 重新索引reindex\n",
    "# .reindex将会根据索引重新排序，如果当前索引不存在，则引入缺失值\n",
    "s = pd.Series(np.random.rand(3), index=list('abc'))\n",
    "print(s)\n",
    "s1 = s.reindex(['c', 'a', 'b', 'd'])\n",
    "print(s1)\n",
    "# .reindex()中也是写列表\n",
    "# 这里'd'索引不存在，所以值为NaN\n",
    "print(\"------------------------\")\n",
    "s2 = s.reindex(['c', 'b', 'a', 'd'], fill_value=0)\n",
    "print(s2)\n",
    "# fill_value参数:填充缺失值的值"
   ]
  },
  {
   "cell_type": "code",
   "execution_count": 8,
   "metadata": {},
   "outputs": [
    {
     "name": "stdout",
     "output_type": "stream",
     "text": [
      "Jack     0.897859\n",
      "Marry    0.984295\n",
      "Tom      0.831593\n",
      "dtype: float64\n",
      "----------------\n",
      "Wang     0.595567\n",
      "Jack     0.086659\n",
      "Marry    0.522694\n",
      "dtype: float64\n",
      "----------------\n",
      "Jack     0.984518\n",
      "Marry    1.506989\n",
      "Tom           NaN\n",
      "Wang          NaN\n",
      "dtype: float64\n"
     ]
    }
   ],
   "source": [
    "# Series对齐\n",
    "s1 = pd.Series(np.random.rand(3), index=['Jack', 'Marry', 'Tom'])\n",
    "s2 = pd.Series(np.random.rand(3), index=['Wang', 'Jack', 'Marry'])\n",
    "print(s1)\n",
    "print(\"----------------\")\n",
    "print(s2)\n",
    "print(\"----------------\")\n",
    "print(s1+s2)\n",
    "# Series和ndarray之间的主要区别是，Series上的操作会根据标签自动对齐\n",
    "# index顺序不会影响数值计算，以标签来计算\n",
    "# 空值和任何值计算结果仍为空值"
   ]
  },
  {
   "cell_type": "code",
   "execution_count": 13,
   "metadata": {},
   "outputs": [
    {
     "name": "stdout",
     "output_type": "stream",
     "text": [
      "n    0.913396\n",
      "g    0.970771\n",
      "j    0.591171\n",
      "u    0.740078\n",
      "r    0.353368\n",
      "dtype: float64\n",
      "g    0.970771\n",
      "j    0.591171\n",
      "u    0.740078\n",
      "r    0.353368\n",
      "dtype: float64\n",
      "n    0.913396\n",
      "u    0.740078\n",
      "r    0.353368\n",
      "dtype: float64\n",
      "n    0.913396\n",
      "g    0.970771\n",
      "j    0.591171\n",
      "u    0.740078\n",
      "r    0.353368\n",
      "dtype: float64\n"
     ]
    }
   ],
   "source": [
    "# 删除:.drop()\n",
    "s = pd.Series(np.random.rand(5), index=list('ngjur'))\n",
    "print(s)\n",
    "s1 = s.drop('n')\n",
    "print(s1)\n",
    "s2 = s.drop(['g', 'j'],)\n",
    "print(s2)\n",
    "print(s)\n",
    "# drop删除元素后返回副本(inplace=False)"
   ]
  },
  {
   "cell_type": "code",
   "execution_count": 24,
   "metadata": {},
   "outputs": [
    {
     "name": "stdout",
     "output_type": "stream",
     "text": [
      "0    0.487641\n",
      "1    0.816504\n",
      "2    0.335221\n",
      "3    0.482751\n",
      "4    0.178686\n",
      "dtype: float64\n",
      "n    0.992714\n",
      "g    0.342387\n",
      "j    0.388085\n",
      "u    0.554190\n",
      "r    0.102995\n",
      "dtype: float64\n",
      "0      0.487641\n",
      "1      0.816504\n",
      "2      0.335221\n",
      "3      0.482751\n",
      "4      0.178686\n",
      "5    100.000000\n",
      "dtype: float64\n",
      "n      0.992714\n",
      "g      0.342387\n",
      "j      0.388085\n",
      "u      0.554190\n",
      "r      0.102995\n",
      "a    200.000000\n",
      "dtype: float64\n",
      "---------------\n",
      "0      0.487641\n",
      "1      0.816504\n",
      "2      0.335221\n",
      "3      0.482751\n",
      "4      0.178686\n",
      "5    100.000000\n",
      "n      0.992714\n",
      "g      0.342387\n",
      "j      0.388085\n",
      "u      0.554190\n",
      "r      0.102995\n",
      "a    200.000000\n",
      "dtype: float64\n",
      "0      0.487641\n",
      "1      0.816504\n",
      "2      0.335221\n",
      "3      0.482751\n",
      "4      0.178686\n",
      "5    100.000000\n",
      "dtype: float64\n"
     ]
    }
   ],
   "source": [
    "# 添加\n",
    "s1 = pd.Series(np.random.rand(5))\n",
    "s2 = pd.Series(np.random.rand(5), index=list('ngjur'))\n",
    "print(s1)\n",
    "print(s2)\n",
    "s1[5] = 100\n",
    "print(s1)\n",
    "s2['a'] = 200\n",
    "print(s2)\n",
    "print('---------------')\n",
    "# 直接通过下标索引/标签index添加值\n",
    "s3 = s1.append(s2)\n",
    "print(s3)\n",
    "print(s1)\n",
    "# 通过.append方法,直接添加一个数组\n",
    "# .append方法生成一个新的数组，不改变之前的数组"
   ]
  },
  {
   "cell_type": "code",
   "execution_count": 27,
   "metadata": {},
   "outputs": [
    {
     "name": "stdout",
     "output_type": "stream",
     "text": [
      "a    0.967406\n",
      "b    0.167988\n",
      "c    0.912018\n",
      "dtype: float64\n",
      "a    100.0\n",
      "b    200.0\n",
      "c    200.0\n",
      "dtype: float64\n"
     ]
    }
   ],
   "source": [
    "# 修改\n",
    "s = pd.Series(np.random.rand(3), index=['a', 'b', 'c'])\n",
    "print(s)\n",
    "s['a'] = 100\n",
    "s['b', 'c'] = 200\n",
    "print(s)\n",
    "# 通过索引直接修改，类似序列"
   ]
  },
  {
   "cell_type": "code",
   "execution_count": null,
   "metadata": {},
   "outputs": [],
   "source": []
  }
 ],
 "metadata": {
  "kernelspec": {
   "display_name": "Python 3",
   "language": "python",
   "name": "python3"
  },
  "language_info": {
   "codemirror_mode": {
    "name": "ipython",
    "version": 3
   },
   "file_extension": ".py",
   "mimetype": "text/x-python",
   "name": "python",
   "nbconvert_exporter": "python",
   "pygments_lexer": "ipython3",
   "version": "3.8.0"
  }
 },
 "nbformat": 4,
 "nbformat_minor": 2
}
