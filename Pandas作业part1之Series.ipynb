{
 "cells": [
  {
   "cell_type": "code",
   "execution_count": 1,
   "metadata": {},
   "outputs": [],
   "source": [
    "import numpy as np\n",
    "import pandas as pd"
   ]
  },
  {
   "cell_type": "code",
   "execution_count": 4,
   "metadata": {},
   "outputs": [
    {
     "name": "stdout",
     "output_type": "stream",
     "text": [
      "Jack     90.0\n",
      "Marry    92.0\n",
      "Tom      89.0\n",
      "Zack     65.0\n",
      "Name: 作业1, dtype: float64\n",
      "Jack     90.0\n",
      "Marry    92.0\n",
      "Tom      89.0\n",
      "Zack     65.0\n",
      "Name: 作业1, dtype: float64\n"
     ]
    }
   ],
   "source": [
    "# 作业1：分别由字典、数组的方式，创建以下要求的Series\n",
    "dic = {\"Jack\":90.0, \"Marry\":92.0, \"Tom\":89.0, \"Zack\":65}\n",
    "s1 = pd.Series(dic, name=\"作业1\")\n",
    "print(s1)\n",
    "s2 = pd.Series(np.array([90, 92, 89, 65]), index=['Jack', 'Marry', 'Tom', 'Zack'], dtype=np.float64, name='作业1')\n",
    "print(s2)"
   ]
  },
  {
   "cell_type": "code",
   "execution_count": 10,
   "metadata": {},
   "outputs": [
    {
     "name": "stdout",
     "output_type": "stream",
     "text": [
      "a    11.541374\n",
      "b     0.416308\n",
      "c    73.547477\n",
      "d    22.739737\n",
      "e    52.077591\n",
      "f    10.980208\n",
      "g    17.500296\n",
      "h    66.259919\n",
      "i    18.713716\n",
      "j    45.067987\n",
      "dtype: float64\n",
      "b     0.416308\n",
      "c    73.547477\n",
      "dtype: float64\n",
      "d    22.739737\n",
      "e    52.077591\n",
      "f    10.980208\n",
      "dtype: float64\n",
      "c    73.547477\n",
      "e    52.077591\n",
      "h    66.259919\n",
      "dtype: float64\n"
     ]
    }
   ],
   "source": [
    "# 作业1：创建一个Series，包含10个元素，且每个值为0-100的均匀分布随机值，index为a-j，请分别筛选出：\n",
    "# ① 标签为b，c的值为多少\n",
    "# ② Series中第4到6个值是哪些？\n",
    "# ③ Series中大于50的值有哪些？\n",
    "s = pd.Series(np.random.rand(10)*100, index=list('abcdefghij'))\n",
    "print(s)\n",
    "# ① 标签为b，c的值为多少\n",
    "print(s[['b', 'c']])\n",
    "# ② Series中第4到6个值是哪些？\n",
    "print(s[3:6])\n",
    "# ③ Series中大于50的值有哪些?\n",
    "s1 = s > 50\n",
    "print(s[s1])"
   ]
  },
  {
   "cell_type": "code",
   "execution_count": 14,
   "metadata": {},
   "outputs": [
    {
     "name": "stdout",
     "output_type": "stream",
     "text": [
      "a    0\n",
      "b    1\n",
      "c    2\n",
      "d    3\n",
      "e    4\n",
      "f    5\n",
      "g    6\n",
      "h    7\n",
      "i    8\n",
      "j    9\n",
      "dtype: int32\n",
      "------------\n",
      "s修改后:\n",
      "a    100\n",
      "b      1\n",
      "c      2\n",
      "d      3\n",
      "e    100\n",
      "f    100\n",
      "g      6\n",
      "h      7\n",
      "i      8\n",
      "j      9\n",
      "dtype: int32\n"
     ]
    }
   ],
   "source": [
    "# 作业1：如图创建Series，并按照要求修改得到结果\n",
    "s = pd.Series(np.arange(10), index=list('abcdefghij'), dtype=np.int32)\n",
    "print(s)\n",
    "print(\"------------\")\n",
    "print(\"s修改后:\")\n",
    "s['a'] = 100\n",
    "s[['e','f']] = 100\n",
    "print(s)"
   ]
  },
  {
   "cell_type": "code",
   "execution_count": 18,
   "metadata": {},
   "outputs": [
    {
     "name": "stdout",
     "output_type": "stream",
     "text": [
      "创建s1为:\n",
      "a    0.107127\n",
      "b    0.809046\n",
      "c    0.115329\n",
      "d    0.816669\n",
      "e    0.018716\n",
      "dtype: float64\n",
      "创建s2为:\n",
      "c    0.759926\n",
      "d    0.057680\n",
      "e    0.067748\n",
      "f    0.416522\n",
      "g    0.906271\n",
      "dtype: float64\n",
      "a         NaN\n",
      "b         NaN\n",
      "c    0.875255\n",
      "d    0.874349\n",
      "e    0.086464\n",
      "f         NaN\n",
      "g         NaN\n",
      "dtype: float64\n"
     ]
    }
   ],
   "source": [
    "# 作业2：已有s1，s2（值为0-10的随机数），请求出s1+s2的值\n",
    "s1 = pd.Series(np.random.rand(5), index=list('abcde'))\n",
    "s2 = pd.Series(np.random.rand(5), index=list('cdefg'))\n",
    "print(\"创建s1为:\")\n",
    "print(s1)\n",
    "print(\"创建s2为:\")\n",
    "print(s2)\n",
    "print(s1 + s2)"
   ]
  }
 ],
 "metadata": {
  "kernelspec": {
   "display_name": "Python 3",
   "language": "python",
   "name": "python3"
  },
  "language_info": {
   "codemirror_mode": {
    "name": "ipython",
    "version": 3
   },
   "file_extension": ".py",
   "mimetype": "text/x-python",
   "name": "python",
   "nbconvert_exporter": "python",
   "pygments_lexer": "ipython3",
   "version": "3.8.0"
  }
 },
 "nbformat": 4,
 "nbformat_minor": 2
}
